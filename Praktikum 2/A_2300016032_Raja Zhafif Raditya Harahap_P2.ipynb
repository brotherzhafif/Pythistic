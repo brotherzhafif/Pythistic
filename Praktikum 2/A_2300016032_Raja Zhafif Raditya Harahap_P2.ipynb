{
 "cells": [
  {
   "cell_type": "markdown",
   "metadata": {},
   "source": [
    "Praktikum Statistika 2\n",
    "\n",
    "Transformasi Data\n",
    "\n",
    "-\n",
    "\n",
    "Kelas : A\n",
    "\n",
    "Nama : Raja Zhafif Raditya Harahap\n",
    "\n",
    "Nim : 2300016032"
   ]
  },
  {
   "cell_type": "code",
   "execution_count": null,
   "metadata": {
    "vscode": {
     "languageId": "plaintext"
    }
   },
   "outputs": [],
   "source": []
  }
 ],
 "metadata": {
  "language_info": {
   "name": "python"
  }
 },
 "nbformat": 4,
 "nbformat_minor": 2
}
