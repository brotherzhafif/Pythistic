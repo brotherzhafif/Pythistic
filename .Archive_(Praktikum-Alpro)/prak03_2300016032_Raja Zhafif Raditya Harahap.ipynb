{
 "cells": [
  {
   "cell_type": "code",
   "execution_count": null,
   "id": "8dae64b3",
   "metadata": {},
   "outputs": [
    {
     "name": "stdout",
     "output_type": "stream",
     "text": [
      "\n",
      "\n",
      "\n",
      "\n",
      "===================================================\n",
      "            --- Praktikum Minggu 3 ---             \n",
      "===================================================\n",
      "=                    Pilihan                      =\n",
      "===================================================\n",
      "= 1 . Luas Persegi Panjang                         \n",
      "= 2 . Hitung Luas Segitiga                        =\n",
      "= 3 . Hitung Lingkaran                            =\n",
      "= 4 . Untuk Keluar Kode                           =\n",
      "===================================================\n",
      "\n"
     ]
    },
    {
     "name": "stdin",
     "output_type": "stream",
     "text": [
      "Masukan Pilihan Yang Ingin Dicoba =  2\n"
     ]
    },
    {
     "name": "stdout",
     "output_type": "stream",
     "text": [
      "==============================================\n",
      "=          Kalkulator Luas Segitiga          =\n",
      "==============================================\n",
      "\n"
     ]
    },
    {
     "name": "stdin",
     "output_type": "stream",
     "text": [
      "Masukan Tinggi Segitiga =  12\n",
      "Masukan Alas Segitiga =  12\n"
     ]
    },
    {
     "name": "stdout",
     "output_type": "stream",
     "text": [
      "==============================================\n",
      "Luas Segitiga Tersebut Adalah =  72.0\n",
      "==============================================\n",
      "\n",
      "\n",
      "\n",
      "\n",
      "\n",
      "===================================================\n",
      "            --- Praktikum Minggu 3 ---             \n",
      "===================================================\n",
      "=                    Pilihan                      =\n",
      "===================================================\n",
      "= 1 . Luas Persegi Panjang                         \n",
      "= 2 . Hitung Luas Segitiga                        =\n",
      "= 3 . Hitung Lingkaran                            =\n",
      "= 4 . Untuk Keluar Kode                           =\n",
      "===================================================\n",
      "\n"
     ]
    },
    {
     "name": "stdin",
     "output_type": "stream",
     "text": [
      "Masukan Pilihan Yang Ingin Dicoba =  3\n"
     ]
    },
    {
     "name": "stdout",
     "output_type": "stream",
     "text": [
      "==============================================\n",
      "=       Kalkulator Luas Belah Ketupat        =\n",
      "==============================================\n",
      "\n"
     ]
    },
    {
     "name": "stdin",
     "output_type": "stream",
     "text": [
      "Masukan Jari Jari Lingkaran =  10\n"
     ]
    },
    {
     "name": "stdout",
     "output_type": "stream",
     "text": [
      "==============================================\n",
      "Luas Belah Ketupat Tersebut Adalah =  314.1592653589793\n",
      "==============================================\n",
      "\n",
      "\n",
      "\n",
      "\n",
      "\n",
      "===================================================\n",
      "            --- Praktikum Minggu 3 ---             \n",
      "===================================================\n",
      "=                    Pilihan                      =\n",
      "===================================================\n",
      "= 1 . Luas Persegi Panjang                         \n",
      "= 2 . Hitung Luas Segitiga                        =\n",
      "= 3 . Hitung Lingkaran                            =\n",
      "= 4 . Untuk Keluar Kode                           =\n",
      "===================================================\n",
      "\n"
     ]
    }
   ],
   "source": [
    "# Praktikum Algoritma Pemprograman Pertemuan Ketiga \n",
    "# Nama : Raja Zhafif Raditya Harahap\n",
    "# Nim : 2300016032\n",
    "\n",
    "import math;\n",
    "\n",
    "# Definiting Funtion Code Dibawah Sini\n",
    "    \n",
    "# Function Kalkulator Luas Persegi Panjang\n",
    "def PersegiPanjang():\n",
    "    # Title Start Display Kode \n",
    "    print(\"==============================================\"); \n",
    "    print(\"=      Kalkulator Luas Persegi Panjang       =\");\n",
    "    print(\"==============================================\"); \n",
    "    print(\"\"); \n",
    "    \n",
    "    # Inputnya Luas Persegi Panjang\n",
    "    p = float(input(\"Masukan Panjang Balok = \"));\n",
    "    t = float(input(\"Masukan Lebar Balok = \"));\n",
    "    \n",
    "    #Rumus Luas Persegi Panjang\n",
    "    L = (p * t);\n",
    "    \n",
    "    # Cetak hasil\n",
    "    print(\"==============================================\"); \n",
    "    print(\"Volume Tabung Tersebut Adalah = \", L);\n",
    "    print(\"==============================================\"); \n",
    "    print(\"\");\n",
    "\n",
    "# Function Menghitung Luas Segitiga\n",
    "def Segitiga():\n",
    "    # Title Start Display Kode \n",
    "    print(\"==============================================\"); \n",
    "    print(\"=          Kalkulator Luas Segitiga          =\");\n",
    "    print(\"==============================================\"); \n",
    "    print(\"\"); \n",
    "    \n",
    "    # Inputnya Luas Segitiga\n",
    "    t = float(input(\"Masukan Tinggi Segitiga = \"));\n",
    "    a = float(input(\"Masukan Alas Segitiga = \"));\n",
    "    \n",
    "    #Rumus Luas Segitiga\n",
    "    L = (0.5 * a * t);\n",
    "    \n",
    "    # Cetak hasil\n",
    "    print(\"==============================================\"); \n",
    "    print(\"Luas Segitiga Tersebut Adalah = \", L);\n",
    "    print(\"==============================================\"); \n",
    "    print(\"\");\n",
    "\n",
    "# Function Menghitung Luas Lingkaran\n",
    "def Lingkaran():\n",
    "    # Title Start Display Kode \n",
    "    print(\"==============================================\"); \n",
    "    print(\"=       Kalkulator Luas Belah Ketupat        =\");\n",
    "    print(\"==============================================\"); \n",
    "    print(\"\"); \n",
    "    \n",
    "    # Inputnya Luas Lingkaran\n",
    "    r = float(input(\"Masukan Jari Jari Lingkaran = \"));\n",
    "    \n",
    "    # Rumus Luas Lingkaran\n",
    "    L = (math.pi * r**2);\n",
    "   \n",
    "    # Cetak hasil\n",
    "    print(\"==============================================\"); \n",
    "    print(\"Luas Belah Ketupat Tersebut Adalah = \", L);\n",
    "    print(\"==============================================\"); \n",
    "    print(\"\");\n",
    "\n",
    "# Function Untuk Mengulang Setiap Kali Dijalankan\n",
    "def LoopStart():\n",
    "    # Pemanis Hanya Title Dari Kodenya Biar Keren\n",
    "    print(\"\");print(\"\");print(\"\");print(\"\");\n",
    "    print(\"===================================================\");\n",
    "    print(\"            --- Praktikum Minggu 3 ---             \");\n",
    "    print(\"===================================================\");\n",
    "    print(\"=                    Pilihan                      =\");\n",
    "    print(\"===================================================\");\n",
    "    print(\"= 1 . Luas Persegi Panjang                         \");\n",
    "    print(\"= 2 . Hitung Luas Segitiga                        =\");\n",
    "    print(\"= 3 . Hitung Lingkaran                            =\");\n",
    "    print(\"= 4 . Untuk Keluar Kode                           =\");\n",
    "    print(\"===================================================\");\n",
    "    print(\"\");\n",
    "\n",
    "    pilihan = int(input(\"Masukan Pilihan Yang Ingin Dicoba = \"));\n",
    "\n",
    "    if pilihan == 1:\n",
    "        PersegiPanjang();\n",
    "        LoopStart();\n",
    "        \n",
    "    elif pilihan == 2:\n",
    "        Segitiga();\n",
    "        LoopStart();\n",
    "        \n",
    "    elif pilihan == 3:\n",
    "        Lingkaran();\n",
    "        LoopStart();\n",
    "        \n",
    "    elif pilihan == 4:\n",
    "        print(\"Terima Kasih Telah Mencoba Kode Saya -Japip\");\n",
    "        print(\"\");\n",
    "        \n",
    "    else:\n",
    "        print(\"Tolong Masukan Pilihan yang sesuai Diatas\");\n",
    "        print(\"\");\n",
    "        LoopStart();\n",
    "\n",
    "#Inisiasi loop Pertama\n",
    "LoopStart();"
   ]
  },
  {
   "cell_type": "code",
   "execution_count": null,
   "id": "73d21e61-0f9d-4702-954b-8c147a874b7f",
   "metadata": {},
   "outputs": [],
   "source": [
    "def Maksimum(a, b, c):\n",
    "    urut = sorted([a, b, c]);\n",
    "    maks = urut[-1]; \n",
    "    print(\"Angka terbesar dari \", a, \",\", b, \"and\", c, \"is\", maks);\n",
    "\n",
    "a = float(input(\"Masukan Angka Pertama : \"));\n",
    "b = float(input(\"Masukan Angka Kedua : \"));\n",
    "c = float(input(\"Masukan Angka Ketiga : \"));\n",
    "\n",
    "Maksimum(a, b, c);"
   ]
  },
  {
   "cell_type": "code",
   "execution_count": null,
   "id": "e17a1e80-5d47-4fec-a8f0-1e1854cc67d8",
   "metadata": {},
   "outputs": [],
   "source": [
    "def Paritas(a):\n",
    "    a = (a % 2);\n",
    "    if a == 1 :\n",
    "        print(\"Angka {a} adalah Ganjil\");\n",
    "    elif a == 0 :\n",
    "        print(\"Angka {a} adalah Genap\");\n",
    "    else :\n",
    "        print(\"Error Tak Terduga Damn Bro\");\n",
    "\n",
    "a = int(input(\"Masukan Angkanya\"));\n",
    "\n",
    "Paritas(a);"
   ]
  },
  {
   "cell_type": "code",
   "execution_count": 10,
   "id": "6e40dd88-e59e-407f-a407-7528afbbb39b",
   "metadata": {},
   "outputs": [
    {
     "name": "stdin",
     "output_type": "stream",
     "text": [
      "input a character :  a\n"
     ]
    },
    {
     "name": "stdout",
     "output_type": "stream",
     "text": [
      "The result for input is :  Pertahankan\n"
     ]
    }
   ],
   "source": [
    "nilai = input('Masukan Pilihan Dari A-E : ').upper();\n",
    "\n",
    "pilihan={\n",
    " 'A' : 'Pertahankan',\n",
    " 'B' : 'Harus lebih baik lagi',\n",
    " 'C' : 'Perbanyak belajar',\n",
    " 'D' : 'Kebanyakan bolos...;',\n",
    " 'E' :'Kebanyakan bolos...',\n",
    "};\n",
    "\n",
    "print('The result for input is : ', pilihan[nilai]);"
   ]
  },
  {
   "cell_type": "code",
   "execution_count": 11,
   "id": "abbcf67d-b452-4316-9bf7-ce0368e9cd02",
   "metadata": {},
   "outputs": [
    {
     "name": "stdin",
     "output_type": "stream",
     "text": [
      "masukan pilihan menu (1-3) :  1\n"
     ]
    },
    {
     "name": "stdout",
     "output_type": "stream",
     "text": [
      "The result for input is :  Anda memilih Nasi Goreng.\n"
     ]
    }
   ],
   "source": [
    "pilihan = input('masukan pilihan menu (1-3) : ')\n",
    "menu ={\n",
    " '1' : 'Anda memilih Nasi Goreng.',\n",
    " '2' : 'Anda memilih Bakso.',\n",
    " '3' : 'Anda memilih Es Teh',\n",
    "}\n",
    "print('The result for input is : ', menu[pilihan])\n"
   ]
  },
  {
   "cell_type": "code",
   "execution_count": null,
   "id": "35bef786-8349-4350-80dd-bc947196805f",
   "metadata": {},
   "outputs": [],
   "source": []
  }
 ],
 "metadata": {
  "kernelspec": {
   "display_name": "Python 3 (ipykernel)",
   "language": "python",
   "name": "python3"
  },
  "language_info": {
   "codemirror_mode": {
    "name": "ipython",
    "version": 3
   },
   "file_extension": ".py",
   "mimetype": "text/x-python",
   "name": "python",
   "nbconvert_exporter": "python",
   "pygments_lexer": "ipython3",
   "version": "3.12.2"
  }
 },
 "nbformat": 4,
 "nbformat_minor": 5
}
