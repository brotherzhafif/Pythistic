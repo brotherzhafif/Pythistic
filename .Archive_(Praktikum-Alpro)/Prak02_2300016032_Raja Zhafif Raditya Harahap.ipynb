{
 "cells": [
  {
   "cell_type": "code",
   "execution_count": 3,
   "id": "c6364f78",
   "metadata": {},
   "outputs": [
    {
     "name": "stdout",
     "output_type": "stream",
     "text": [
      "== Soal Nomor 1 Rawr =================================\n",
      "= Masukan Panjang Garis Pertama : 123\n",
      "= Masukan Panjang Garis Kedua : 32\n",
      "= Panjang Garis Miring Segitiga Tersebut Adalah :  127.09445306542689\n",
      "======================================================\n",
      "\n",
      "== Soal Nomor 2 Duar =================================\n",
      "=   6  Modulus  3  adalah = 0\n",
      "=   75  Modulus  4  adalah = 3\n",
      "=   124  Modulus  5  adalah = 4\n",
      "=   225  Modulus  5  adalah = 0\n",
      "======================================================\n",
      "\n"
     ]
    }
   ],
   "source": [
    "# Praktikum Algoritma Pemprograman Pertemuan Kedua \n",
    "# Nama : Raja Zhafif Raditya Harahap\n",
    "# Nim : 2300016032\n",
    "\n",
    "import math;\n",
    "\n",
    "# Fungsi Pythagoras mencari garis miring\n",
    "def GarisMiring(x,y):\n",
    "    z = math.sqrt((x**2) + (y**2));\n",
    "    return z;\n",
    "\n",
    "# Fungsi Untuk Modulus 2 angka\n",
    "def AutoModulus(num1,num2):\n",
    "    if len(num1) != len(num2):\n",
    "        print(\"Panjang Array Tidak Sama\");\n",
    "    else:\n",
    "        for x in range(len(num1)):\n",
    "            print(\"=  \", num1[x],\" Modulus \",num2[x],\" adalah =\", (num1[x] % num2[x]));\n",
    "\n",
    "# Actual Running Code Start Here\n",
    "# Soal Nomor 1\n",
    "\n",
    "print(\"\");\n",
    "print(\"== Soal Nomor 1 Rawr =================================\"); \n",
    "\n",
    "gx = float(input(\"= Masukan Panjang Garis Pertama : \"));\n",
    "gy = float(input(\"= Masukan Panjang Garis Kedua : \"));\n",
    "gz = GarisMiring(gx,gy);\n",
    "\n",
    "print(\"= Panjang Garis Miring Segitiga Tersebut Adalah : \", gz);\n",
    "print(\"======================================================\"); \n",
    "print(\"\");\n",
    "\n",
    "# Soal Nomor 2\n",
    "\n",
    "num1 = [6,75,124,225];\n",
    "num2 = [3,4,5,5];\n",
    "\n",
    "print(\"== Soal Nomor 2 Duar =================================\");\n",
    "\n",
    "AutoModulus(num1,num2);\n",
    "\n",
    "print(\"======================================================\"); \n",
    "print(\"\");\n",
    "\n"
   ]
  },
  {
   "cell_type": "code",
   "execution_count": null,
   "id": "31b0f63e",
   "metadata": {},
   "outputs": [],
   "source": []
  }
 ],
 "metadata": {
  "kernelspec": {
   "display_name": "Python 3 (ipykernel)",
   "language": "python",
   "name": "python3"
  },
  "language_info": {
   "codemirror_mode": {
    "name": "ipython",
    "version": 3
   },
   "file_extension": ".py",
   "mimetype": "text/x-python",
   "name": "python",
   "nbconvert_exporter": "python",
   "pygments_lexer": "ipython3",
   "version": "3.11.5"
  }
 },
 "nbformat": 4,
 "nbformat_minor": 5
}
