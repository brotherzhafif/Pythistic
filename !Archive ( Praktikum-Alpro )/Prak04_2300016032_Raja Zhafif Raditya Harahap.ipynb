{
 "cells": [
  {
   "cell_type": "code",
   "execution_count": null,
   "id": "ef652d83",
   "metadata": {},
   "outputs": [],
   "source": [
    "# Praktikum Algoritma Pemprograman Pertemuan Keempat \n",
    "# Nama : Raja Zhafif Raditya Harahap\n",
    "# Nim : 2300016032\n",
    "\n",
    "# inisiasi variable input\n",
    "x = int(input(\"Masukan angka awal = \"));\n",
    "y = int(input(\"Masukan angka akhir = \"));\n",
    "z = 0;\n",
    "\n",
    "# di dengan awalan x dan akhir y+1 dan jika genap maka akan ditambahkan ke var z\n",
    "for i in range(x,y+1):\n",
    "    if i%2 == 0:\n",
    "        z = z + i;\n",
    "\n",
    "print(\"Hasil dari penambahan dari range tersebut adalah \", z);"
   ]
  },
  {
   "cell_type": "code",
   "execution_count": 9,
   "id": "f5cee5f9",
   "metadata": {},
   "outputs": [
    {
     "name": "stdout",
     "output_type": "stream",
     "text": [
      "n : 1\n",
      "a : 1\n",
      "1\n",
      "avg 0.5\n"
     ]
    }
   ],
   "source": [
    "# inisiasi variable\n",
    "jumlah = 0; i = 1; avg = 0;\n",
    "n = int(input(\"n : \"))+1; \n",
    "z = n;\n",
    "\n",
    "# Loop dengan range i sampai n+1 dan setiap loop n - 1\n",
    "# Setiap i != n maka memasukan input yang dijumlah dan akan dirata rata sesuai input n\n",
    "while i != n :  \n",
    "    a = int(input(\"a : \"));\n",
    "    jumlah = jumlah + a;\n",
    "    n = n-1;\n",
    "    print(jumlah);\n",
    "\n",
    "avg = jumlah / z;       \n",
    "print(\"avg\",avg);"
   ]
  },
  {
   "cell_type": "markdown",
   "id": "4cc978e8",
   "metadata": {},
   "source": [
    "# "
   ]
  },
  {
   "cell_type": "code",
   "execution_count": null,
   "id": "7dd7e128",
   "metadata": {},
   "outputs": [],
   "source": []
  }
 ],
 "metadata": {
  "kernelspec": {
   "display_name": "Python 3 (ipykernel)",
   "language": "python",
   "name": "python3"
  },
  "language_info": {
   "codemirror_mode": {
    "name": "ipython",
    "version": 3
   },
   "file_extension": ".py",
   "mimetype": "text/x-python",
   "name": "python",
   "nbconvert_exporter": "python",
   "pygments_lexer": "ipython3",
   "version": "3.11.5"
  }
 },
 "nbformat": 4,
 "nbformat_minor": 5
}
