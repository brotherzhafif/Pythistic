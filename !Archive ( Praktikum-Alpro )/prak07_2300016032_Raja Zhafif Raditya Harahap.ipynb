{
 "cells": [
  {
   "cell_type": "code",
   "execution_count": null,
   "id": "120fa0de",
   "metadata": {},
   "outputs": [],
   "source": [
    "# Praktikum Algoritma Part 7\n",
    "# Nim : 2300016032\n",
    "# By Raja Zhafif Raditya Harahap"
   ]
  },
  {
   "cell_type": "code",
   "execution_count": 15,
   "id": "9c73b3d5",
   "metadata": {},
   "outputs": [
    {
     "name": "stdout",
     "output_type": "stream",
     "text": [
      "Array Awal\n",
      "[3, 10, 4, 6, 8, 5, 7, 2, 1]\n",
      "Hasil Akhir :\n",
      "[1, 2, 3, 4, 5, 6, 7, 8, 10]\n"
     ]
    }
   ],
   "source": [
    "# Ini yang descending\n",
    "\n",
    "arr = [3,10,4,6,8,5,7,2,1];\n",
    "l = len(arr);\n",
    "\n",
    "print(\"Array Awal\")\n",
    "print(arr)\n",
    "\n",
    "for i in range(l):    \n",
    "    min_i = i\n",
    "    \n",
    "    # Ngecek apakah angka di index lebih besar dari angka lainnya     \n",
    "    for j in range(i + 1, l):\n",
    "        if arr[j] < arr[min_i]:\n",
    "            min_i = j;\n",
    "      \n",
    "    # Tukeran Tempat     \n",
    "    (arr[i], arr[min_i]) = (arr[min_i], arr[i]);\n",
    "\n",
    "print(\"Hasil Akhir :\")\n",
    "print(arr);\n",
    "            "
   ]
  },
  {
   "cell_type": "code",
   "execution_count": 30,
   "id": "dcc5b71d",
   "metadata": {},
   "outputs": [
    {
     "name": "stdout",
     "output_type": "stream",
     "text": [
      "Masukan Panjang Array :10\n",
      "Angka :5\n",
      "Angka :23\n",
      "Angka :3\n",
      "Angka :6\n",
      "Angka :4\n",
      "Angka :8\n",
      "Angka :2\n",
      "Angka :1\n",
      "Angka :7\n",
      "Angka :89\n",
      "[5, 23, 3, 6, 4, 8, 2, 1, 7, 89]\n",
      "Loop Ke  1\n",
      "[5, 23, 3, 6, 4, 8, 2, 1, 7, 89]\n",
      "\n",
      "Loop Ke  2\n",
      "[89, 23, 3, 6, 4, 8, 2, 1, 7, 5]\n",
      "\n",
      "Loop Ke  3\n",
      "[89, 23, 3, 6, 4, 8, 2, 1, 7, 5]\n",
      "\n",
      "Loop Ke  4\n",
      "[89, 23, 8, 6, 4, 3, 2, 1, 7, 5]\n",
      "\n",
      "Loop Ke  5\n",
      "[89, 23, 8, 7, 4, 3, 2, 1, 6, 5]\n",
      "\n",
      "Loop Ke  6\n",
      "[89, 23, 8, 7, 6, 3, 2, 1, 4, 5]\n",
      "\n",
      "Loop Ke  7\n",
      "[89, 23, 8, 7, 6, 5, 2, 1, 4, 3]\n",
      "\n",
      "Loop Ke  8\n",
      "[89, 23, 8, 7, 6, 5, 4, 1, 2, 3]\n",
      "\n",
      "Loop Ke  9\n",
      "[89, 23, 8, 7, 6, 5, 4, 3, 2, 1]\n",
      "\n",
      "Loop Ke  10\n",
      "[89, 23, 8, 7, 6, 5, 4, 3, 2, 1]\n",
      "\n",
      "Hasil Akhir :\n",
      "[89, 23, 8, 7, 6, 5, 4, 3, 2, 1]\n"
     ]
    }
   ],
   "source": [
    "# mau bikin array bisa diinput ceritanya\n",
    "\n",
    "arr = []\n",
    "\n",
    "k = int(input(\"Masukan Panjang Array :\"));\n",
    "for g in range(k):\n",
    "    h = int(input(\"Angka :\"))\n",
    "    arr.append(h);\n",
    "\n",
    "print(arr)\n",
    "l = len(arr)\n",
    "\n",
    "for i in range(l):\n",
    "    \n",
    "    print(\"Loop Ke \", i+1)\n",
    "    print(arr);\n",
    "    print()\n",
    "    \n",
    "    min_i = i\n",
    "    \n",
    "    # Ngecek apakah angka di index lebih besar dari angka lainnya     \n",
    "    for j in range(i + 1, l):\n",
    "        if arr[j] > arr[min_i]:\n",
    "            min_i = j;\n",
    "      \n",
    "    # Tukeran Tempat     \n",
    "    (arr[i], arr[min_i]) = (arr[min_i], arr[i]);\n",
    "\n",
    "print(\"Hasil Akhir :\")\n",
    "print(arr);"
   ]
  },
  {
   "cell_type": "code",
   "execution_count": 29,
   "id": "db166628",
   "metadata": {},
   "outputs": [
    {
     "name": "stdout",
     "output_type": "stream",
     "text": [
      "Loop Ke  1\n",
      "[3, 10, 4, 6, 8, 5, 7, 2, 1]\n",
      "\n",
      "Loop Ke  2\n",
      "[10, 3, 4, 6, 8, 5, 7, 2, 1]\n",
      "\n",
      "Loop Ke  3\n",
      "[10, 8, 4, 6, 3, 5, 7, 2, 1]\n",
      "\n",
      "Loop Ke  4\n",
      "[10, 8, 7, 6, 3, 5, 4, 2, 1]\n",
      "\n",
      "Loop Ke  5\n",
      "[10, 8, 7, 6, 3, 5, 4, 2, 1]\n",
      "\n",
      "Loop Ke  6\n",
      "[10, 8, 7, 6, 5, 3, 4, 2, 1]\n",
      "\n",
      "Loop Ke  7\n",
      "[10, 8, 7, 6, 5, 4, 3, 2, 1]\n",
      "\n",
      "Loop Ke  8\n",
      "[10, 8, 7, 6, 5, 4, 3, 2, 1]\n",
      "\n",
      "Loop Ke  9\n",
      "[10, 8, 7, 6, 5, 4, 3, 2, 1]\n",
      "\n",
      "Hasil Akhir :\n",
      "[10, 8, 7, 6, 5, 4, 3, 2, 1]\n"
     ]
    }
   ],
   "source": [
    "# Ini yang descending\n",
    "\n",
    "arr = [3,10,4,6,8,5,7,2,1];\n",
    "l = len(arr);\n",
    "\n",
    "for i in range(l):\n",
    "    \n",
    "    print(\"Loop Ke \", i+1)\n",
    "    print(arr);\n",
    "    print()\n",
    "    \n",
    "    min_i = i\n",
    "    \n",
    "    # Ngecek apakah angka di index lebih besar dari angka lainnya     \n",
    "    for j in range(i + 1, l):\n",
    "        if arr[j] > arr[min_i]:\n",
    "            min_i = j;\n",
    "      \n",
    "    # Tukeran Tempat     \n",
    "    (arr[i], arr[min_i]) = (arr[min_i], arr[i]);\n",
    "\n",
    "print(\"Hasil Akhir :\")\n",
    "print(arr);\n",
    "            "
   ]
  },
  {
   "cell_type": "code",
   "execution_count": null,
   "id": "7b3a2cf0",
   "metadata": {},
   "outputs": [],
   "source": []
  }
 ],
 "metadata": {
  "kernelspec": {
   "display_name": "Python 3 (ipykernel)",
   "language": "python",
   "name": "python3"
  },
  "language_info": {
   "codemirror_mode": {
    "name": "ipython",
    "version": 3
   },
   "file_extension": ".py",
   "mimetype": "text/x-python",
   "name": "python",
   "nbconvert_exporter": "python",
   "pygments_lexer": "ipython3",
   "version": "3.11.5"
  }
 },
 "nbformat": 4,
 "nbformat_minor": 5
}
