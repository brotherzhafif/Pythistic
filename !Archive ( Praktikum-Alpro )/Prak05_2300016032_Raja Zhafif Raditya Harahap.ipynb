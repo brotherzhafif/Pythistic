{
 "cells": [
  {
   "cell_type": "code",
   "execution_count": null,
   "metadata": {},
   "outputs": [],
   "source": [
    "print(\"Kode soal nomor 1\");\n",
    "print(\"\");\n",
    "for i in range(1,11):\n",
    "    if i%2 == 0:\n",
    "        print(i)\n",
    "\n",
    "print(\"Kode soal nomor 2\");\n",
    "print(\"\");\n",
    "for i in reversed(range(0,5)):\n",
    "    print(i);\n",
    "\n",
    "print(\"Kode soal nomor 3\");\n",
    "print(\"\");\n",
    "n = 3\n",
    "\n",
    "\n",
    "for i in range(1, n):\n",
    "    for j in range(i):\n",
    "        print(\"* \", end=\"\")\n",
    "    for j in range(2 * (n - i)):\n",
    "        print(\"  \", end=\"\")\n",
    "    for j in range(i):\n",
    "        print(\"* \", end=\"\")\n",
    "    print()\n",
    "\n",
    "for i in range(n, 0, -1):\n",
    "    for j in range(i):\n",
    "        print(\"* \", end=\"\")\n",
    "    for j in range(2 * (n - i)):\n",
    "        print(\"  \", end=\"\")\n",
    "    for j in range(i):\n",
    "        print(\"* \", end=\"\")\n",
    "    print()"
   ]
  }
 ],
 "metadata": {
  "kernelspec": {
   "display_name": "Python 3",
   "language": "python",
   "name": "python3"
  },
  "language_info": {
   "codemirror_mode": {
    "name": "ipython",
    "version": 3
   },
   "file_extension": ".py",
   "mimetype": "text/x-python",
   "name": "python",
   "nbconvert_exporter": "python",
   "pygments_lexer": "ipython3",
   "version": "3.11.1 (tags/v3.11.1:a7a450f, Dec  6 2022, 19:58:39) [MSC v.1934 64 bit (AMD64)]"
  },
  "vscode": {
   "interpreter": {
    "hash": "343a995fd9fa4bcb14192cd020db9ab3ae79adcf8feeb92683ce61c523a43398"
   }
  }
 },
 "nbformat": 4,
 "nbformat_minor": 2
}
