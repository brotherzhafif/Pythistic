{
 "cells": [
  {
   "cell_type": "code",
   "execution_count": 15,
   "id": "e488455c",
   "metadata": {},
   "outputs": [
    {
     "name": "stdout",
     "output_type": "stream",
     "text": [
      "* \n",
      "* * \n",
      "* * * \n",
      "* * * * \n",
      "* * * * * \n"
     ]
    }
   ],
   "source": [
    "for i in range(1,6):\n",
    "    for j in range(i):\n",
    "        print(\"*\", end= \" \")\n",
    "    print()\n",
    "    \n"
   ]
  },
  {
   "cell_type": "code",
   "execution_count": null,
   "id": "7f7eb98a",
   "metadata": {},
   "outputs": [],
   "source": []
  },
  {
   "cell_type": "code",
   "execution_count": 16,
   "id": "5bef87be",
   "metadata": {},
   "outputs": [
    {
     "name": "stdout",
     "output_type": "stream",
     "text": [
      "\n",
      "* \n",
      "* * \n",
      "* * * \n",
      "* * * * \n",
      "* * * * * \n"
     ]
    }
   ],
   "source": [
    "i = 6\n",
    "while(i>0):\n",
    "    j = 6\n",
    "    while(j>i):\n",
    "        print(\"*\", end=\" \")\n",
    "        j = j -1\n",
    "    i = i - 1\n",
    "    print()"
   ]
  },
  {
   "cell_type": "code",
   "execution_count": 17,
   "id": "40650385",
   "metadata": {},
   "outputs": [
    {
     "name": "stdout",
     "output_type": "stream",
     "text": [
      "apakah 6 > 0 : True\n",
      "apakah 6 > 6 : False\n",
      "\n",
      "apakah 5 > 0 : True\n",
      "apakah 6 > 5 : True\n",
      "* \n",
      "apakah 4 > 0 : True\n",
      "apakah 6 > 4 : True\n",
      "* * \n",
      "apakah 3 > 0 : True\n",
      "apakah 6 > 3 : True\n",
      "* * * \n",
      "apakah 2 > 0 : True\n",
      "apakah 6 > 2 : True\n",
      "* * * * \n",
      "apakah 1 > 0 : True\n",
      "apakah 6 > 1 : True\n",
      "* * * * * \n"
     ]
    }
   ],
   "source": [
    "i = 6\n",
    "while(i>0):\n",
    "    print(f\"apakah {i} > {0} : {bool(i > 0)}\")\n",
    "    j = 6\n",
    "    print(f\"apakah {j} > {i} : {bool(j > i)}\")\n",
    "    while(j > i):\n",
    "          print(\"*\", end=\" \")\n",
    "          j -= 1\n",
    "    i = i-1\n",
    "    print()"
   ]
  },
  {
   "cell_type": "code",
   "execution_count": 14,
   "id": "f8e6dc65",
   "metadata": {},
   "outputs": [
    {
     "name": "stdout",
     "output_type": "stream",
     "text": [
      "Judul Badarawuhi terdapat 10 huruf\n",
      "Judul KKN Desar Penari terdapat 16 huruf\n",
      "Judul Siksa Kubur terdapat 11 huruf\n",
      "\n",
      "Judul Godzilla terdapat 8 huruf\n",
      "Judul Kong terdapat 4 huruf\n",
      "Judul Avatar terdapat 6 huruf\n",
      "\n",
      "Judul Dilan terdapat 5 huruf\n",
      "Judul Vina terdapat 4 huruf\n",
      "Judul Ancika terdapat 6 huruf\n",
      "\n",
      "\n"
     ]
    }
   ],
   "source": [
    "filmku = [['Badarawuhi', 'KKN Desar Penari', 'Siksa Kubur'],\n",
    "         ['Godzilla','Kong','Avatar'],\n",
    "         ['Dilan', 'Vina', 'Ancika']]\n",
    "\n",
    "for sublist in filmku:\n",
    "    for judul in sublist:\n",
    "        jml_karakter = len(judul)\n",
    "        print(\"Judul \" + judul + \" terdapat \" + str(jml_karakter) + \" huruf\")\n",
    "    print()\n",
    "print()"
   ]
  },
  {
   "cell_type": "code",
   "execution_count": 55,
   "id": "5614f2c0",
   "metadata": {},
   "outputs": [
    {
     "name": "stdout",
     "output_type": "stream",
     "text": [
      "1\n",
      "2\n",
      "3\n",
      "4\n",
      "5\n",
      "[1, 2, 3, 4, 5]\n"
     ]
    }
   ],
   "source": [
    "# INSERTION SORT\n",
    "\n",
    "A = [2,3,5,4,1]\n",
    "n = len(A)\n",
    "\n",
    "for i in range(1,n):\n",
    "    x = A[i]\n",
    "    j = i - 1\n",
    "    while j >= 0 and x < A[j]:\n",
    "        A[j+1] = A[j]\n",
    "        j = j -1\n",
    "    A[j+1] = x\n",
    "\n",
    "for i in A:\n",
    "    print(i)\n",
    "\n",
    "# Hasil array diurutkan\n",
    "print(A)\n"
   ]
  },
  {
   "cell_type": "code",
   "execution_count": null,
   "id": "823efe1e",
   "metadata": {},
   "outputs": [],
   "source": []
  }
 ],
 "metadata": {
  "kernelspec": {
   "display_name": "Python 3 (ipykernel)",
   "language": "python",
   "name": "python3"
  },
  "language_info": {
   "codemirror_mode": {
    "name": "ipython",
    "version": 3
   },
   "file_extension": ".py",
   "mimetype": "text/x-python",
   "name": "python",
   "nbconvert_exporter": "python",
   "pygments_lexer": "ipython3",
   "version": "3.11.5"
  }
 },
 "nbformat": 4,
 "nbformat_minor": 5
}
