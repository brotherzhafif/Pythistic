{
 "cells": [
  {
   "cell_type": "code",
   "execution_count": 1,
   "id": "fbeafe47",
   "metadata": {},
   "outputs": [],
   "source": [
    "# Praktikum Algoritma Pemprograman Part 9 keknya\n",
    "# Nama : Raja Zhafif Raditya Harahap\n",
    "# Nim : 2300016032"
   ]
  },
  {
   "cell_type": "code",
   "execution_count": 2,
   "id": "61fc88ec",
   "metadata": {},
   "outputs": [
    {
     "name": "stdout",
     "output_type": "stream",
     "text": [
      "Masukan Jari-Jari Lingkaran : 123\n",
      "Luas Dari Lingkaran Tersebut Adalah 47529.15525615998\n"
     ]
    }
   ],
   "source": [
    "# Fungsi Menghitung Luas Lingkaran\n",
    "\n",
    "import math;\n",
    "\n",
    "def LuasLingkaran(r):\n",
    "    L = (math.pi)*r**2;\n",
    "    return L;\n",
    "\n",
    "r = input(\"Masukan Jari-Jari Lingkaran : \");\n",
    "\n",
    "try :\n",
    "    r = int(r)\n",
    "    if (int(r) > 0) :\n",
    "        L = LuasLingkaran(r);\n",
    "        print(f\"Luas Dari Lingkaran Tersebut Adalah {L}\");\n",
    "    elif (int(r) < 0) :\n",
    "        print(\"Jangan Angka Negatif\")\n",
    "except :\n",
    "    print(\"Input Anda Bukan Angka\")"
   ]
  },
  {
   "cell_type": "code",
   "execution_count": 4,
   "id": "10e2dc5c",
   "metadata": {},
   "outputs": [
    {
     "name": "stdout",
     "output_type": "stream",
     "text": [
      "Masukan Panjang Array :3\n",
      "Angka ke 1 :10\n",
      "Angka ke 2 :4\n",
      "Angka ke 3 :2\n",
      "\n",
      "Array yang kamu masukan adalah :  [10, 4, 2]\n",
      "Nilai Minimum Dari Array Tersebut Adalah :  2\n"
     ]
    }
   ],
   "source": [
    "# Fungsi Menghitung Nilai Rata Rata\n",
    "\n",
    "arr = []\n",
    "\n",
    "def Minimum(arr):\n",
    "    k = input(\"Masukan Panjang Array :\");\n",
    "    try :\n",
    "        k = int(k);\n",
    "        if (k > 0):\n",
    "            for g in range(k): \n",
    "                h = input(f\"Angka ke {g+1} :\");\n",
    "                try :\n",
    "                    h = int(h);\n",
    "                    if (h > 0):\n",
    "                        arr.append(h);\n",
    "                    elif (h < 0):\n",
    "                        exit(\"Jangan Angka Negatif\")\n",
    "                except:\n",
    "                    exit(\"Masukan Angka Yang Benar\")\n",
    "        elif (k < 0):\n",
    "            exit(\"Jangan Angka Negatif\");\n",
    "        else :\n",
    "            exit(\"Masukan Angka Yang Benar\");\n",
    "    except:\n",
    "        exit(\"Masukan Angka Yang Benar\")\n",
    "        \n",
    "    mini = min(arr);\n",
    "    return mini;\n",
    "\n",
    "mini = Minimum(arr);\n",
    "\n",
    "print();\n",
    "print(\"Array yang kamu masukan adalah : \", arr);\n",
    "print(\"Nilai Minimum Dari Array Tersebut Adalah : \", mini);"
   ]
  },
  {
   "cell_type": "code",
   "execution_count": 5,
   "id": "f51da101",
   "metadata": {},
   "outputs": [
    {
     "name": "stdout",
     "output_type": "stream",
     "text": [
      "Masukan Panjang Array :10\n",
      "Angka ke 1 :3\n",
      "Angka ke 2 :7\n",
      "Angka ke 3 :2\n",
      "Angka ke 4 :9\n",
      "Angka ke 5 :34\n",
      "Angka ke 6 :867\n",
      "Angka ke 7 :100\n",
      "Angka ke 8 :345\n",
      "Angka ke 9 :6\n",
      "Angka ke 10 :3\n",
      "\n",
      "Array yang kamu masukan adalah :  [3, 7, 2, 9, 34, 867, 100, 345, 6, 3]\n",
      "Nilai Rata-Rata Dari Array Tersebut Adalah :  137.6\n"
     ]
    }
   ],
   "source": [
    "# Fungsi Menghitung Nilai Rata Rata\n",
    "\n",
    "arr = []\n",
    "\n",
    "def RataRata(arr):\n",
    "    k = input(\"Masukan Panjang Array :\");\n",
    "    try :\n",
    "        k = int(k);\n",
    "        if (k > 0):\n",
    "            for g in range(k): \n",
    "                h = input(f\"Angka ke {g+1} :\");\n",
    "                try :\n",
    "                    h = int(h);\n",
    "                    if (h > 0):\n",
    "                        arr.append(h);\n",
    "                    elif (h < 0):\n",
    "                        exit(\"Jangan Angka Negatif\")\n",
    "                except:\n",
    "                    exit(\"Masukan Angka Yang Benar\")\n",
    "        elif (k < 0):\n",
    "            exit(\"Jangan Angka Negatif\");\n",
    "        else :\n",
    "            exit(\"Masukan Angka Yang Benar\");\n",
    "    except:\n",
    "        exit(\"Masukan Angka Yang Benar\")\n",
    "        \n",
    "    avg = sum(arr) / len(arr);\n",
    "    return avg;\n",
    "\n",
    "avg = RataRata(arr);\n",
    "\n",
    "print();\n",
    "print(\"Array yang kamu masukan adalah : \", arr);\n",
    "print(\"Nilai Rata-Rata Dari Array Tersebut Adalah : \", avg);"
   ]
  },
  {
   "cell_type": "code",
   "execution_count": null,
   "id": "cae4a2d5",
   "metadata": {},
   "outputs": [],
   "source": [
    "def waktu(jam):\n",
    "    if(jam > 18 or jam < 6):\n",
    "        return \"malam\";\n",
    "    elif(jam > 6 or jam < 18):\n",
    "        return \"siang\";\n",
    "    else:\n",
    "        return \"Bukan Jam\"\n",
    "    \n",
    "print(waktu(30));"
   ]
  },
  {
   "cell_type": "code",
   "execution_count": null,
   "id": "2c32589a",
   "metadata": {},
   "outputs": [],
   "source": [
    "def pertambahan(a,b):\n",
    "    c = a + b\n",
    "    return c\n",
    "def pengurangan(a,b):\n",
    "    c = a - b\n",
    "    return c\n",
    "def perkalian(a,b):\n",
    "    c = a * b\n",
    "    return c\n",
    "def pembagian(a,b):\n",
    "    c = a / b\n",
    "    return c\n",
    "\n",
    "print(pembagian(2,6))"
   ]
  },
  {
   "cell_type": "code",
   "execution_count": null,
   "id": "efea9c90",
   "metadata": {},
   "outputs": [],
   "source": []
  }
 ],
 "metadata": {
  "kernelspec": {
   "display_name": "Python 3 (ipykernel)",
   "language": "python",
   "name": "python3"
  },
  "language_info": {
   "codemirror_mode": {
    "name": "ipython",
    "version": 3
   },
   "file_extension": ".py",
   "mimetype": "text/x-python",
   "name": "python",
   "nbconvert_exporter": "python",
   "pygments_lexer": "ipython3",
   "version": "3.11.5"
  }
 },
 "nbformat": 4,
 "nbformat_minor": 5
}
